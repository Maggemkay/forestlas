{
 "cells": [
  {
   "cell_type": "markdown",
   "metadata": {},
   "source": [
    "# Baseline experiment of Wilkes et al. method."
   ]
  },
  {
   "cell_type": "markdown",
   "metadata": {},
   "source": [
    "This is the baseline experiment for our master thesis."
   ]
  },
  {
   "cell_type": "code",
   "execution_count": 1,
   "metadata": {},
   "outputs": [],
   "source": [
    "from forestlas import canopyComplexity as cc\n",
    "import os, glob\n",
    "import numpy as np\n",
    "import matplotlib.pyplot as plt"
   ]
  },
  {
   "cell_type": "code",
   "execution_count": 2,
   "metadata": {},
   "outputs": [],
   "source": [
    "las_directory = 'SLU_laserdata/all_las'\n",
    "n_simulated_clouds = 10\n",
    "n_threads = 8"
   ]
  },
  {
   "cell_type": "code",
   "execution_count": 3,
   "metadata": {},
   "outputs": [
    {
     "name": "stdout",
     "output_type": "stream",
     "text": [
      "Done!\n",
      "Time: 4.432567119598389\n"
     ]
    }
   ],
   "source": [
    "import time\n",
    "\n",
    "# An example of a command if running on a server with multiple CPU's could be:\n",
    "# bs = cc.bootstrapComplexity(os.getcwd(), N=100, processes=20, verbose=False)\n",
    "\n",
    "start_loading = time.time()\n",
    "\n",
    "lasList = glob.glob(os.path.join(os.getcwd(), las_directory, '*.las'))\n",
    "bsMulti = cc.bootstrapComplexity(lasList, N=n_simulated_clouds, processes=n_threads, verbose=False)\n",
    "\n",
    "end_loading = time.time()\n",
    "\n",
    "print(\"Done!\")\n",
    "print(f\"Time: {end_loading - start_loading}\")"
   ]
  },
  {
   "cell_type": "code",
   "execution_count": 4,
   "metadata": {},
   "outputs": [
    {
     "name": "stdout",
     "output_type": "stream",
     "text": [
      "Plot ID: 831555112832, NoS (Float): 0.4, NoS (rounded): 0\n",
      "Plot ID: 831555106830, NoS (Float): 0.0, NoS (rounded): 0\n",
      "Plot ID: 831540206830, NoS (Float): 0.0, NoS (rounded): 0\n",
      "Plot ID: 831540412830, NoS (Float): 0.8, NoS (rounded): 1\n",
      "Plot ID: 831540306830, NoS (Float): 0.5, NoS (rounded): 0\n",
      "Plot ID: 831540112830, NoS (Float): 0.1, NoS (rounded): 0\n",
      "Plot ID: 831540212830, NoS (Float): 0.5, NoS (rounded): 0\n",
      "Plot ID: 831555206830, NoS (Float): 0.0, NoS (rounded): 0\n",
      "Plot ID: 831555212830, NoS (Float): 1.0, NoS (rounded): 1\n"
     ]
    }
   ],
   "source": [
    "for plot in bsMulti.bsCHPmutiple.keys():\n",
    "    print(f\"Plot ID: {plot}, NoS (Float): {bsMulti.bsCHPmutiple[plot].mean()}, NoS (rounded): {round(bsMulti.bsCHPmutiple[plot].mean())}\")"
   ]
  },
  {
   "cell_type": "code",
   "execution_count": null,
   "metadata": {},
   "outputs": [],
   "source": []
  }
 ],
 "metadata": {
  "kernelspec": {
   "display_name": "Python 3",
   "language": "python",
   "name": "python3"
  },
  "language_info": {
   "codemirror_mode": {
    "name": "ipython",
    "version": 3
   },
   "file_extension": ".py",
   "mimetype": "text/x-python",
   "name": "python",
   "nbconvert_exporter": "python",
   "pygments_lexer": "ipython3",
   "version": "3.8.3"
  }
 },
 "nbformat": 4,
 "nbformat_minor": 4
}
